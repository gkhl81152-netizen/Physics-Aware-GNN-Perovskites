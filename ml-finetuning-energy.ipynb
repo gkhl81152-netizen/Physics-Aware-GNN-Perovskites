{
 "cells": [
  {
   "cell_type": "code",
   "execution_count": 1,
   "id": "b47252e5-8613-4593-a679-64d61dda1257",
   "metadata": {
    "jupyter": {
     "source_hidden": true
    }
   },
   "outputs": [],
   "source": [
    "import os\n",
    "import re\n",
    "import pandas as pd\n",
    "import torch\n",
    "import torch.nn as nn\n",
    "import torch_scatter\n",
    "import torch_geometric\n",
    "from torch_geometric import data as tg_data\n",
    "from torch_geometric.data import Dataset, DataLoader\n",
    "from torch_scatter import scatter,scatter_mean\n",
    "import e3nn\n",
    "from e3nn import o3\n",
    "from e3nn.math import soft_one_hot_linspace\n",
    "from e3nn.nn import Gate\n",
    "from e3nn.nn.models.gate_points_2101 import Convolution, smooth_cutoff, tp_path_exists\n",
    "\n",
    "from tqdm import tqdm\n",
    "from collections import defaultdict, namedtuple\n",
    "import pickle\n",
    "from ase import Atom,Atoms\n",
    "from ase.neighborlist import neighbor_list\n",
    "from mendeleev import element\n",
    "from sklearn.preprocessing import StandardScaler\n",
    "from tqdm import tqdm\n",
    "from pymatgen.core import Structure\n",
    "import random\n",
    "import numpy as np\n",
    "\n",
    "from typing import Dict\n",
    "import time\n",
    "\n",
    "import torch.nn.functional as F\n",
    "from torch_geometric.nn import MessagePassing\n",
    "from torch_geometric.utils import add_self_loops\n",
    "from torch_scatter import scatter\n",
    "\n",
    "import matplotlib.pyplot as plt\n",
    "datasets = ['g', 'y', 'r']\n",
    "palette = ['#43AA8B', '#F8961E', '#F94144']\n",
    "colors = dict(zip(datasets, palette))\n",
    "import math"
   ]
  },
  {
   "cell_type": "code",
   "execution_count": 2,
   "id": "b5e72059-adfb-4012-be74-31800e05d608",
   "metadata": {},
   "outputs": [],
   "source": [
    "import warnings\n",
    "warnings.filterwarnings(\"ignore\", category=UserWarning, module=\"pymatgen\")"
   ]
  },
  {
   "cell_type": "code",
   "execution_count": 3,
   "id": "0051390a-fa4a-478e-a2d0-2d72f5f770ad",
   "metadata": {},
   "outputs": [
    {
     "name": "stdout",
     "output_type": "stream",
     "text": [
      "torch device: cuda:0\n"
     ]
    }
   ],
   "source": [
    "device = \"cuda:0\" if torch.cuda.is_available() else \"cpu\"\n",
    "print('torch device:' , device)"
   ]
  },
  {
   "cell_type": "code",
   "execution_count": 4,
   "id": "0001f072-f0c8-4c80-b280-69ae762ada56",
   "metadata": {},
   "outputs": [],
   "source": [
    "seed = 42\n",
    "torch.manual_seed(seed)\n",
    "if torch.cuda.is_available():\n",
    "    torch.cuda.manual_seed(seed)\n",
    "torch.backends.cudnn.deterministic = True\n",
    "torch.backends.cudnn.benchmark = False\n",
    "\n",
    "np.random.seed(seed)\n",
    "random.seed(seed)"
   ]
  },
  {
   "cell_type": "markdown",
   "id": "dcb75380-0013-4d52-9e73-734c5bfc3140",
   "metadata": {},
   "source": [
    "数据读取"
   ]
  },
  {
   "cell_type": "code",
   "execution_count": 5,
   "id": "d71370fa-bbe6-4952-a04f-a5d5e96fd5a6",
   "metadata": {},
   "outputs": [],
   "source": [
    "def extract_number(file_name):\n",
    "    match = re.search(r'mp-(\\d+)', file_name)\n",
    "    return int(match.group(1)) if match else float('inf')  # 返回匹配到的数字，未匹配的文件排在最后\n",
    "\n",
    "# 设置CIF文件夹路径\n",
    "cif_folder = '../train_set'\n",
    "\n",
    "# 获取所有CIF文件\n",
    "cif_files = [f for f in os.listdir(cif_folder) if f.endswith('.cif')]\n",
    "\n",
    "# 按照文件名中的数字进行升序排序\n",
    "cif_files.sort(key=lambda x: extract_number(os.path.basename(x)))"
   ]
  },
  {
   "cell_type": "code",
   "execution_count": 6,
   "id": "e337c28a-a792-42c0-aed3-72d5957fce6d",
   "metadata": {},
   "outputs": [],
   "source": [
    "df_info = pd.read_excel('../train_set/train_materials_info.xlsx')\n",
    "\n",
    "df_info['mp_num'] = df_info['Material ID'].apply(lambda x: int(re.search(r'\\d+', str(x)).group()))\n",
    "# 根据提取的数字部分进行排序\n",
    "df_info_sorted = df_info.sort_values(by='mp_num', ascending=True)"
   ]
  },
  {
   "cell_type": "code",
   "execution_count": 7,
   "id": "665e11af-b8fc-4d65-b3d8-0f50183846c3",
   "metadata": {},
   "outputs": [],
   "source": [
    "target_column = df_info_sorted.iloc[:, -4] "
   ]
  },
  {
   "cell_type": "code",
   "execution_count": 8,
   "id": "85978b1b-fe22-463f-92e8-be5661c73164",
   "metadata": {
    "jupyter": {
     "source_hidden": true
    }
   },
   "outputs": [
    {
     "name": "stdout",
     "output_type": "stream",
     "text": [
      "One-hot encoding for atomic types and data standardization complete.\n"
     ]
    }
   ],
   "source": [
    "# 定义元素属性的命名元组\n",
    "ElementProperties = namedtuple('ElementProperties', ['mass', 'dipole', 'radius', 'ionization_energy', 'electronegativity'])\n",
    "\n",
    "# 文件路径定义\n",
    "DATA_FILE = \"./element_data_v2.pkl\"\n",
    "\n",
    "# 加载或初始化元素数据\n",
    "def load_or_initialize_data(file_path):\n",
    "    if os.path.exists(file_path):\n",
    "        return load_data(file_path)\n",
    "    else:\n",
    "        return initialize_element_data(file_path)\n",
    "\n",
    "# 初始化元素数据\n",
    "def initialize_element_data(file_path):\n",
    "    type_mapping = {}\n",
    "    element_attributes = defaultdict(list)\n",
    "\n",
    "    # 获取所有元素的物理化学属性\n",
    "    for atomic_number in tqdm(range(1, 119)):  # 遍历元素周期表\n",
    "        element = Atom(atomic_number)  # 获取元素对象\n",
    "        element_symbol = element.symbol\n",
    "        type_mapping[element_symbol] = atomic_number - 1  # 原子类型映射\n",
    "\n",
    "        # 获取每个元素的物理化学属性\n",
    "        properties = extract_element_properties(element_symbol)\n",
    "\n",
    "        # 存储这些属性到字典\n",
    "        element_attributes['mass'].append(properties.mass)\n",
    "        element_attributes['dipole'].append(properties.dipole)\n",
    "        element_attributes['radius'].append(properties.radius)\n",
    "        element_attributes['ionization_energy'].append(properties.ionization_energy)\n",
    "        element_attributes['electronegativity'].append(properties.electronegativity)\n",
    "\n",
    "    # 数据标准化处理（对数值数据）\n",
    "    element_attributes = standardize_data(element_attributes)\n",
    "\n",
    "    # 保存初始化的数据\n",
    "    save_data(file_path, type_mapping, element_attributes)\n",
    "    return {\"type_mapping\": type_mapping, **element_attributes}\n",
    "\n",
    "# 提取元素的物理化学属性\n",
    "def extract_element_properties(symbol):\n",
    "    # 获取元素的物理化学属性，部分使用默认值填充\n",
    "    mass = element(symbol).mass\n",
    "    dipole = element(symbol).dipole_polarizability or 67.0\n",
    "    radius = element(symbol).covalent_radius_pyykko\n",
    "    ionization_energy = element(symbol).ionenergies.get(1, 7.5)\n",
    "    electronegativity = element(symbol).electronegativity(scale=\"pauling\") or 2.5\n",
    "\n",
    "    return ElementProperties(mass, dipole, radius, ionization_energy, electronegativity)\n",
    "\n",
    "# 加载已保存的数据\n",
    "def load_data(file_path):\n",
    "    with open(file_path, 'rb') as f:\n",
    "        return pickle.load(f)\n",
    "\n",
    "# 保存数据到文件\n",
    "def save_data(file_path, type_mapping, element_attributes):\n",
    "    with open(file_path, 'wb') as f:\n",
    "        pickle.dump({\"type_mapping\": type_mapping, **element_attributes}, f)\n",
    "\n",
    "# 标准化数值数据\n",
    "def standardize_data(element_attributes):\n",
    "    scaler = StandardScaler()\n",
    "\n",
    "    # 对数值特征进行标准化\n",
    "    standardized_data = {}\n",
    "    for attribute, values in element_attributes.items():\n",
    "        if attribute in [\"mass\", \"dipole\", \"radius\", \"ionization_energy\", \"electronegativity\"]:\n",
    "            standardized_data[attribute] = scaler.fit_transform(torch.tensor(values, dtype=torch.float32).view(-1, 1)).squeeze().tolist()\n",
    "        else:\n",
    "            standardized_data[attribute] = values\n",
    "\n",
    "    return standardized_data\n",
    "\n",
    "# 加载元素数据\n",
    "data = load_or_initialize_data(DATA_FILE)\n",
    "\n",
    "type_mapping = data[\"type_mapping\"]\n",
    "mass_data = data[\"mass\"]\n",
    "dipole_data = data[\"dipole\"]\n",
    "radius_data = data[\"radius\"]\n",
    "ionization_energy_data = data[\"ionization_energy\"]\n",
    "electronegativity_data = data[\"electronegativity\"]\n",
    "\n",
    "# 创建原子类型的 one-hot 编码\n",
    "type_onehot = torch.eye(len(type_mapping))\n",
    "\n",
    "# 完成后的输出\n",
    "print(\"One-hot encoding for atomic types and data standardization complete.\")"
   ]
  },
  {
   "cell_type": "code",
   "execution_count": 9,
   "id": "275bf993-3681-49b7-807a-2d3bae9b88fb",
   "metadata": {
    "jupyter": {
     "source_hidden": true
    }
   },
   "outputs": [],
   "source": [
    "def compute_weighted_angles(edge_src, edge_dst, edge_vec, edge_len, eps=1e-5):\n",
    "    \"\"\"\n",
    "    向量化计算共享同一中心节点的边的加权平均夹角：\n",
    "    对于每个边，计算与同一节点其它边（且目的节点不同）的夹角，并根据边长比加权平均。\n",
    "    \"\"\"\n",
    "    weighted_angles = torch.zeros(edge_src.size(0), device=edge_src.device, dtype=torch.float32)\n",
    "    unique_sources = torch.unique(edge_src)\n",
    "    for src in unique_sources:\n",
    "        # 找到同一源节点的所有边索引\n",
    "        idx = (edge_src == src).nonzero(as_tuple=False).squeeze()\n",
    "        if idx.dim() == 0:\n",
    "            idx = idx.unsqueeze(0)\n",
    "        # 若只有一条边，则没有可比较的角度\n",
    "        if idx.numel() <= 1:\n",
    "            continue\n",
    "        # 取出该组边的向量、边长和目的节点信息\n",
    "        E = edge_vec[idx]      # shape: (m, d)\n",
    "        dists = edge_len[idx]  # shape: (m,)\n",
    "        dests = edge_dst[idx]  # shape: (m,)\n",
    "        m = E.size(0)\n",
    "        # 利用矩阵运算计算所有边对的内积和模长外积\n",
    "        dot = E @ E.T           # shape: (m, m)\n",
    "        norms = dists\n",
    "        norms_outer = norms.unsqueeze(1) * norms.unsqueeze(0) + eps\n",
    "        cos = dot / norms_outer\n",
    "        cos = torch.clamp(cos, -1.0, 1.0)\n",
    "        angles = torch.acos(cos)  # shape: (m, m)\n",
    "        # 计算边长比：对于每对 (i, j) 用 dists[i] / dists[j]\n",
    "        ratios = dists.unsqueeze(1) / (dists.unsqueeze(0) + eps)\n",
    "        ratios = torch.clamp(ratios, 0.01, 10)\n",
    "        weighted = angles * ratios  # 加权角度矩阵\n",
    "        # 构造 mask：只保留目的节点不同的边对（自动排除自身比较，因为目的节点必然相同）\n",
    "        valid_mask = (dests.unsqueeze(1) != dests.unsqueeze(0))\n",
    "        # 对每条边计算有效加权角度的平均值\n",
    "        valid_weighted_sum = (weighted * valid_mask.float()).sum(dim=1)\n",
    "        valid_counts = valid_mask.float().sum(dim=1)\n",
    "        avg_angles = torch.where(valid_counts > 0, valid_weighted_sum / valid_counts, torch.zeros_like(valid_counts))\n",
    "        weighted_angles[idx] = avg_angles\n",
    "    return weighted_angles"
   ]
  },
  {
   "cell_type": "code",
   "execution_count": 10,
   "id": "a76e973e-3e27-4d5e-9099-9c321078e587",
   "metadata": {
    "jupyter": {
     "source_hidden": true
    }
   },
   "outputs": [],
   "source": [
    "def gaussian_process(edge_len, start=0.0, stop=5.0, resolution=50, std=0.5):\n",
    "    means = torch.linspace(start, stop, resolution, device=edge_len.device) \n",
    "    edge_len = edge_len.unsqueeze(-1) \n",
    "    means = means.view(1, -1) \n",
    "    return torch.exp(-((edge_len - means) ** 2) / (2 * std ** 2))"
   ]
  },
  {
   "cell_type": "code",
   "execution_count": 11,
   "id": "cad28231-1faa-4e65-9742-113558a9f9ae",
   "metadata": {
    "jupyter": {
     "source_hidden": true
    }
   },
   "outputs": [],
   "source": [
    "def create_graph_data(positions, lattice, symbols, node_features, atomic_type_onehot,\n",
    "                      edge_index, edge_vec, edge_len, edge_shift, processed_edge_len, processed_edge_angle, target_value):\n",
    "    # 构造图数据对象\n",
    "    data = tg_data.Data()\n",
    "    data.pos = positions              # 原子位置（节点特征）\n",
    "    data.lattice = lattice            # 晶格信息\n",
    "    data.symbol = symbols             # 原子类型\n",
    "    data.x = node_features            # 节点特征\n",
    "    data.type = atomic_type_onehot    # 原子类型 one-hot 编码\n",
    "    data.edge_index = edge_index      # 边的索引\n",
    "    data.edge_vec = edge_vec          # 边的向量\n",
    "    data.edge_len = edge_len          # 边长\n",
    "    data.pre_edge_len = processed_edge_len  # 高斯处理后的边长\n",
    "    data.shift = edge_shift           # 邻居的周期性位移\n",
    "    data.edge_attr = processed_edge_angle     # 高斯处理后的角度\n",
    "    data.y = target_value             # 目标值\n",
    "    return data"
   ]
  },
  {
   "cell_type": "code",
   "execution_count": 12,
   "id": "7bd87ed4-06a2-4035-8aed-0d65a1b35208",
   "metadata": {
    "jupyter": {
     "source_hidden": true
    }
   },
   "outputs": [],
   "source": [
    "def build_graph_data(entry, type_mapping, type_onehot, target_value, r_max=6.0,\n",
    "                     start=0.0, stop=1.0, resolution=50, sigma=1.0):\n",
    "    # 将输入结构转换为 ASE Atoms 对象\n",
    "    ase_atoms = Atoms(symbols=[site.species_string for site in entry.sites],\n",
    "                      positions=entry.cart_coords,\n",
    "                      cell=entry.lattice.matrix,\n",
    "                      pbc=True)\n",
    "    # 获取邻居边信息：边的源、目标和周期性位移\n",
    "    edge_src, edge_dst, edge_shift = neighbor_list(\"ijS\", ase_atoms, cutoff=r_max, self_interaction=True)\n",
    "    # 转为张量并放到指定设备上\n",
    "    edge_src = torch.tensor(edge_src, dtype=torch.long, device=device)\n",
    "    edge_dst = torch.tensor(edge_dst, dtype=torch.long, device=device)\n",
    "    edge_shift = torch.tensor(edge_shift, dtype=torch.float32, device=device)\n",
    "    \n",
    "    symbols = [site.species_string for site in entry.sites]\n",
    "    positions = torch.tensor(entry.cart_coords, dtype=torch.float32, device=device)\n",
    "    lattice = torch.tensor(entry.lattice.matrix, dtype=torch.float32, device=device).unsqueeze(0)\n",
    "\n",
    "    # 利用源节点索引构造与晶格信息对应的批次索引\n",
    "    edge_batch = positions.new_zeros(positions.shape[0], dtype=torch.long)[edge_src]\n",
    "    # 计算边向量：考虑周期性边界条件\n",
    "    edge_vec = (positions[edge_dst] - positions[edge_src] +\n",
    "                torch.einsum('ni,nij->nj', edge_shift, lattice[edge_batch]))\n",
    "    # 计算边长\n",
    "    edge_len = torch.norm(edge_vec, dim=1)\n",
    "    \n",
    "    # 利用向量化方法计算每条边的加权平均角度\n",
    "    edge_weight_angle = compute_weighted_angles(edge_src, edge_dst, edge_vec, edge_len)\n",
    "    \n",
    "    # 高斯处理边长和角度特征\n",
    "    processed_edge_len = gaussian_process(edge_len, start=start, stop=stop, resolution=resolution, std=sigma)\n",
    "    processed_edge_angle = gaussian_process(edge_weight_angle, start=start, stop=stop, resolution=resolution, std=sigma)\n",
    "    \n",
    "    # 构造符合 torch_geometric 要求的 edge_index（形状 [2, num_edges]）\n",
    "    edge_index = torch.stack([edge_src, edge_dst], dim=0)\n",
    "    \n",
    "    # 构造节点特征（假设 mass_data 等全局变量已定义）\n",
    "    mass = torch.tensor([mass_data[type_mapping[s]] for s in symbols], dtype=torch.float32, device=device)\n",
    "    dipole = torch.tensor([dipole_data[type_mapping[s]] for s in symbols], dtype=torch.float32, device=device)\n",
    "    radius = torch.tensor([radius_data[type_mapping[s]] for s in symbols], dtype=torch.float32, device=device)\n",
    "    ionization_energy = torch.tensor([ionization_energy_data[type_mapping[s]] for s in symbols], dtype=torch.float32, device=device)\n",
    "    electronegativity = torch.tensor([electronegativity_data[type_mapping[s]] for s in symbols], dtype=torch.float32, device=device)\n",
    "    node_features = torch.stack([mass, dipole, radius, ionization_energy, electronegativity], dim=1)\n",
    "    \n",
    "    atomic_type_onehot = type_onehot[[type_mapping[s] for s in symbols]].to(device)\n",
    "    \n",
    "    data = create_graph_data(positions, lattice, symbols, node_features, atomic_type_onehot,\n",
    "                             edge_index, edge_vec, edge_len, edge_shift,\n",
    "                             processed_edge_len, processed_edge_angle, target_value)\n",
    "    return data"
   ]
  },
  {
   "cell_type": "code",
   "execution_count": 13,
   "id": "26e0a676-1346-4381-bdd5-2d315890082d",
   "metadata": {
    "jupyter": {
     "source_hidden": true
    }
   },
   "outputs": [],
   "source": [
    "def process_and_save_batch_data(cif_folder, cif_files, type_mapping, type_onehot, target_column, \n",
    "                                r_max=6.0, start=0.0, stop=1.0, resolution=50, sigma=1.0, save_dir=\"processed_data\"):\n",
    "    if not os.path.exists(save_dir):\n",
    "        os.makedirs(save_dir)\n",
    "    for i, cif_file in tqdm(enumerate(cif_files), desc=\"Processing CIF Files\", unit=\"file\"):\n",
    "        cif_path = os.path.join(cif_folder, cif_file)\n",
    "        structure = Structure.from_file(cif_path)\n",
    "        # 对于小结构，扩大超胞\n",
    "        if structure.num_sites <= 2:\n",
    "            structure = structure.make_supercell([[2, 0, 0], [0, 2, 0], [0, 0, 2]])\n",
    "        data = build_graph_data(entry=structure, type_mapping=type_mapping, type_onehot=type_onehot,\n",
    "                                target_value=target_column.iloc[i], r_max=r_max, start=start, stop=stop,\n",
    "                                resolution=resolution, sigma=sigma)\n",
    "        save_path = os.path.join(save_dir, f'{os.path.splitext(cif_file)[0]}.pt')\n",
    "        torch.save(data, save_path)\n",
    "        del data\n",
    "    print(f\"所有图数据已保存至 {save_dir}\")"
   ]
  },
  {
   "cell_type": "code",
   "execution_count": 14,
   "id": "7c13c5b5-5c25-4a39-8b00-c150ad8b8c83",
   "metadata": {
    "jupyter": {
     "source_hidden": true
    },
    "scrolled": true
   },
   "outputs": [
    {
     "name": "stderr",
     "output_type": "stream",
     "text": [
      "Processing CIF Files: 0file [00:00, ?file/s]D:\\Anaconda\\envs\\gkhl\\Lib\\site-packages\\pymatgen\\core\\structure.py:3087: EncodingWarning: We strongly encourage explicit `encoding`, and we would use UTF-8 by default as per PEP 686\n",
      "  with zopen(filename, mode=\"rt\", errors=\"replace\") as file:\n",
      "Processing CIF Files: 1file [00:00,  5.23file/s]D:\\Anaconda\\envs\\gkhl\\Lib\\site-packages\\pymatgen\\core\\structure.py:3087: EncodingWarning: We strongly encourage explicit `encoding`, and we would use UTF-8 by default as per PEP 686\n",
      "  with zopen(filename, mode=\"rt\", errors=\"replace\") as file:\n",
      "Processing CIF Files: 1494file [00:25, 57.59file/s] "
     ]
    },
    {
     "name": "stdout",
     "output_type": "stream",
     "text": [
      "所有图数据已保存至 ./processed_data\n"
     ]
    },
    {
     "name": "stderr",
     "output_type": "stream",
     "text": [
      "\n"
     ]
    }
   ],
   "source": [
    "run=True\n",
    "if run == True:\n",
    "    processed_data_folder = \"./processed_data\"\n",
    "    process_and_save_batch_data(cif_folder, cif_files, type_mapping, type_onehot, target_column, \n",
    "                                6.0, 0.0, 1.0, 50, 1.0, processed_data_folder)"
   ]
  },
  {
   "cell_type": "code",
   "execution_count": 15,
   "id": "7e45bb30-ce8c-4014-9fcb-aec43062e45f",
   "metadata": {
    "jupyter": {
     "source_hidden": true
    }
   },
   "outputs": [],
   "source": [
    "class GraphDataset(Dataset):\n",
    "    def __init__(self, cif_folder, split='train', batch_size=32, graph_num=1):\n",
    "        self.cif_folder = cif_folder\n",
    "        self.split = split\n",
    "        self.batch_size = batch_size\n",
    "        self.graph_num = graph_num  # 加载第几张图数据\n",
    "\n",
    "        # 获取所有的 .pt 文件路径（每个材料对应一个图数据）\n",
    "        self.graph_files = [f for f in os.listdir(cif_folder) if f.endswith('.pt')]\n",
    "\n",
    "        # 每个图数据的划分\n",
    "        self.split_mapping = self.get_split_mapping()\n",
    "\n",
    "    def get_split_mapping(self):\n",
    "        split_mapping = {\n",
    "            'train': [],\n",
    "            'val': [],\n",
    "            'test': []\n",
    "        }\n",
    "\n",
    "        # 随机打乱图文件列表\n",
    "        graph_files = self.graph_files.copy()\n",
    "        random.shuffle(graph_files)\n",
    "\n",
    "        total_files = len(graph_files)\n",
    "        train_size = int(0.8 * total_files)\n",
    "        val_size = int(0.1 * total_files)\n",
    "\n",
    "        # 进行数据集划分\n",
    "        train_files = graph_files[:train_size]\n",
    "        val_files = graph_files[train_size:train_size + val_size]\n",
    "        test_files = graph_files[train_size + val_size:]\n",
    "\n",
    "        # 将文件映射到对应的分割集\n",
    "        split_mapping['train'].extend(train_files)\n",
    "        split_mapping['val'].extend(val_files)\n",
    "        split_mapping['test'].extend(test_files)\n",
    "\n",
    "        return split_mapping\n",
    "\n",
    "    def load_graph_data(self, graph_files, graph_num=1):\n",
    "        all_graphs = []\n",
    "\n",
    "        for graph_file in graph_files:\n",
    "            graph_path = os.path.join(self.cif_folder, graph_file)\n",
    "\n",
    "            if os.path.exists(graph_path):\n",
    "                graph = torch.load(graph_path)  # 加载图数据\n",
    "                all_graphs.append(graph)\n",
    "            else:\n",
    "                raise ValueError(f\"Graph data for {graph_file} is missing.\")\n",
    "\n",
    "        return all_graphs\n",
    "\n",
    "    def __len__(self):\n",
    "        \"\"\"\n",
    "        返回当前数据集的大小\n",
    "        \"\"\"\n",
    "        return len(self.split_mapping[self.split])\n",
    "\n",
    "    def __getitem__(self, idx):\n",
    "        \"\"\"\n",
    "        获取指定索引的图数据\n",
    "        \"\"\"\n",
    "        graph_file = self.split_mapping[self.split][idx]\n",
    "        \n",
    "        # 返回指定图数据\n",
    "        graphs = self.load_graph_data([graph_file], graph_num=self.graph_num)\n",
    "        \n",
    "        return graphs[0]\n"
   ]
  },
  {
   "cell_type": "code",
   "execution_count": 16,
   "id": "073cdea5-4d62-4ad5-a42a-e381a689603b",
   "metadata": {
    "jupyter": {
     "source_hidden": true
    }
   },
   "outputs": [],
   "source": [
    "def load_and_batch_data(cif_folder, batch_size=32, graph_num=1):\n",
    "    train_dataset = GraphDataset(cif_folder, split='train', graph_num=graph_num)\n",
    "    val_dataset = GraphDataset(cif_folder, split='val', graph_num=graph_num)\n",
    "    test_dataset = GraphDataset(cif_folder, split='test', graph_num=graph_num)\n",
    "\n",
    "    # 打印数据集大小\n",
    "    print(f\"Train dataset size: {len(train_dataset)}\")\n",
    "    print(f\"Validation dataset size: {len(val_dataset)}\")\n",
    "    print(f\"Test dataset size: {len(test_dataset)}\")\n",
    "\n",
    "    # 为每个数据集创建DataLoader\n",
    "    train_loader = DataLoader(train_dataset, batch_size=batch_size, shuffle=True)\n",
    "    val_loader = DataLoader(val_dataset, batch_size=batch_size, shuffle=False)\n",
    "    test_loader = DataLoader(test_dataset, batch_size=batch_size, shuffle=False)\n",
    "\n",
    "    return train_loader, val_loader, test_loader"
   ]
  },
  {
   "cell_type": "code",
   "execution_count": 17,
   "id": "ed408ee4-8d52-40ef-9456-f192d0e7aea3",
   "metadata": {},
   "outputs": [
    {
     "name": "stdout",
     "output_type": "stream",
     "text": [
      "Train dataset size: 1195\n",
      "Validation dataset size: 149\n",
      "Test dataset size: 150\n"
     ]
    },
    {
     "name": "stderr",
     "output_type": "stream",
     "text": [
      "D:\\Anaconda\\envs\\gkhl\\Lib\\site-packages\\torch_geometric\\deprecation.py:26: UserWarning: 'data.DataLoader' is deprecated, use 'loader.DataLoader' instead\n",
      "  warnings.warn(out)\n"
     ]
    }
   ],
   "source": [
    "cif_folder1 = \"./processed_data\"\n",
    "batch_size = 8\n",
    "# 每批次的图数据数量\n",
    "train_loader, val_loader, test_loader = load_and_batch_data(cif_folder1, batch_size,1)"
   ]
  },
  {
   "cell_type": "code",
   "execution_count": 18,
   "id": "d6e3b9ca-989a-47f2-9cda-74a1de43c22b",
   "metadata": {
    "jupyter": {
     "source_hidden": true
    }
   },
   "outputs": [
    {
     "name": "stderr",
     "output_type": "stream",
     "text": [
      "Processing graph data:   0%|                                                            | 0/1195 [00:00<?, ?material/s]C:\\Users\\Administrator\\AppData\\Local\\Temp\\ipykernel_23700\\1046099695.py:48: FutureWarning: You are using `torch.load` with `weights_only=False` (the current default value), which uses the default pickle module implicitly. It is possible to construct malicious pickle data which will execute arbitrary code during unpickling (See https://github.com/pytorch/pytorch/blob/main/SECURITY.md#untrusted-models for more details). In a future release, the default value for `weights_only` will be flipped to `True`. This limits the functions that could be executed during unpickling. Arbitrary objects will no longer be allowed to be loaded via this mode unless they are explicitly allowlisted by the user via `torch.serialization.add_safe_globals`. We recommend you start setting `weights_only=True` for any use case where you don't have full control of the loaded file. Please open an issue on GitHub for any issues related to this experimental feature.\n",
      "  graph = torch.load(graph_path)  # 加载图数据\n",
      "Processing graph data: 100%|████████████████████████████████████████████████| 1195/1195 [00:02<00:00, 538.50material/s]\n",
      "Processing graph data: 100%|██████████████████████████████████████████████████| 149/149 [00:00<00:00, 588.61material/s]\n",
      "Processing graph data: 100%|██████████████████████████████████████████████████| 150/150 [00:00<00:00, 634.00material/s]\n"
     ]
    },
    {
     "name": "stdout",
     "output_type": "stream",
     "text": [
      "average number of neighbors (train/valid/test): 69.41714285714286 / 69.97558139534884 / 69.02138364779874\n"
     ]
    },
    {
     "data": {
      "image/png": "[encoded data removed]",
      "text/plain": [
       "<Figure size 500x400 with 1 Axes>"
      ]
     },
     "metadata": {},
     "output_type": "display_data"
    }
   ],
   "source": [
    "def get_neighbors(graph_data):\n",
    "    n_neighbors = []\n",
    "    for data in tqdm(graph_data, desc=\"Processing graph data\", unit=\"material\"):   # 遍历图数据列表（每个列表对应一个材料）\n",
    "        N = data.pos.shape[0]  # 获取图中节点的数量\n",
    "        for i in range(N):\n",
    "            n_neighbors.append(len((data.edge_index[0] == i).nonzero()))  # 计算每个节点的邻居数\n",
    "    return np.array(n_neighbors)\n",
    "\n",
    "# 计算训练集、验证集和测试集的邻居数量\n",
    "train_neighbors = get_neighbors(train_loader.dataset)  # 获取训练集的邻居数\n",
    "valid_neighbors = get_neighbors(val_loader.dataset)  # 获取验证集的邻居数\n",
    "test_neighbors = get_neighbors(test_loader.dataset)  # 获取测试集的邻居数\n",
    "\n",
    "# 绘制邻居数量的直方图\n",
    "fig, ax = plt.subplots(1, 1, figsize=(5, 4))\n",
    "b = 0.\n",
    "bins = 50\n",
    "for (d, c), n in zip(colors.items(), [train_neighbors, valid_neighbors, test_neighbors]):\n",
    "    color = [int(c.lstrip('#')[i:i+2], 16)/255. for i in (0, 2, 4)]\n",
    "    y, bins, _ = ax.hist(n, bins=bins, fc=color+[0.7], ec=color, bottom=b, label=d)\n",
    "    b += y\n",
    "ax.set_xlabel('Number of neighbors')\n",
    "ax.set_ylabel('Number of examples')\n",
    "ax.legend(frameon=False)\n",
    "\n",
    "# 输出训练集、验证集和测试集的平均邻居数量\n",
    "print('average number of neighbors (train/valid/test):', train_neighbors.mean(), '/', valid_neighbors.mean(), '/', test_neighbors.mean())"
   ]
  },
  {
   "cell_type": "markdown",
   "id": "65ac283a-8e1f-44ff-a3a7-940665b86918",
   "metadata": {},
   "source": [
    "模型设计"
   ]
  },
  {
   "cell_type": "code",
   "execution_count": 19,
   "id": "55135372-007e-4504-8487-e1c183715a63",
   "metadata": {
    "jupyter": {
     "source_hidden": true
    }
   },
   "outputs": [],
   "source": [
    "class GatedGCNWithEdgeAttention(MessagePassing):\n",
    "    def __init__(self, dim_node=5, dim_edge=50, epsilon=1e-5, learnable_att_weight=True):\n",
    "        super().__init__(aggr='add')\n",
    "        \n",
    "        self.W_src = nn.Linear(dim_node, dim_node)\n",
    "        self.W_dst = nn.Linear(dim_node, dim_node)\n",
    "        self.W_e = nn.Linear(dim_edge, dim_edge)\n",
    "        self.W_a = nn.Linear(dim_edge, dim_edge)\n",
    "        self.W_u = nn.Linear(dim_node * 2 + dim_edge * 2, dim_edge)\n",
    "        self.W_v = nn.Linear(dim_node * 2 + dim_edge * 2, dim_edge)\n",
    "        \n",
    "        self.att_weight = nn.Parameter(torch.Tensor(1, dim_edge * 2)) if learnable_att_weight else None\n",
    "        self.att_bias = nn.Parameter(torch.Tensor(1))\n",
    "        self.edge_bias = nn.Parameter(torch.Tensor(1, dim_edge))\n",
    "        \n",
    "        self.sigma = nn.Sigmoid()\n",
    "        self.act = nn.LeakyReLU()\n",
    "        self.norm_x = nn.LayerNorm(dim_node)\n",
    "        self.norm_e = nn.LayerNorm(dim_edge)\n",
    "        self.eps = epsilon\n",
    "        self.reset_parameters()\n",
    "\n",
    "    def reset_parameters(self):\n",
    "        if self.att_weight is not None:\n",
    "            nn.init.xavier_uniform_(self.att_weight)\n",
    "        if self.att_bias is not None:\n",
    "            nn.init.zeros_(self.att_bias)\n",
    "        if self.edge_bias is not None:\n",
    "            nn.init.zeros_(self.edge_bias)\n",
    "            \n",
    "        nn.init.xavier_uniform_(self.W_src.weight); self.W_src.bias.data.fill_(0)\n",
    "        nn.init.xavier_uniform_(self.W_dst.weight); self.W_dst.bias.data.fill_(0)\n",
    "        nn.init.xavier_uniform_(self.W_e.weight); self.W_e.bias.data.fill_(0)\n",
    "        nn.init.xavier_uniform_(self.W_a.weight); self.W_a.bias.data.fill_(0)\n",
    "        nn.init.xavier_uniform_(self.W_u.weight); self.W_u.bias.data.fill_(0)\n",
    "        nn.init.xavier_uniform_(self.W_v.weight); self.W_v.bias.data.fill_(0)\n",
    "\n",
    "    def forward(self, x, edge_index, edge_angle, pre_edge_len):\n",
    "        x = self.W_src(x)\n",
    "        return self.propagate(edge_index, x=x, pre_edge_len=pre_edge_len, edge_angle=edge_angle)\n",
    "\n",
    "    def message(self, x_j, edge_index, pre_edge_len, edge_angle):\n",
    "        edge_attention = self.compute_edge_attention(x_j, pre_edge_len, edge_index)\n",
    "        edge_attention = edge_attention + self.edge_bias.view(-1)\n",
    "        sigma_a = self.sigma(edge_angle)\n",
    "        a_sum = scatter(src=sigma_a, index=edge_index[0], dim=0 ,reduce='max')\n",
    "        a_gated = sigma_a / (a_sum[edge_index[0]] + self.eps)\n",
    "        return (edge_attention.view(-1, 1) * a_gated.view(-1, 1)) * self.W_dst(x_j)\n",
    "\n",
    "    def compute_edge_attention(self, x_j, pre_edge_len, edge_index):\n",
    "        edge_input = torch.cat([x_j, pre_edge_len], dim=-1)\n",
    "        grouped_attention = scatter(edge_input @ self.att_weight.t() + self.att_bias, edge_index[0], dim=0, reduce='max')\n",
    "        return F.softmax(grouped_attention, dim=1)  # 按每个节点归一化\n",
    "\n",
    "    def update(self, x, aggr_out, edge_index, pre_edge_len, edge_angle):\n",
    "        \n",
    "        x = self.norm_x(x)\n",
    "        pre_edge_len = self.norm_e(pre_edge_len)\n",
    "        edge_angle = self.norm_e(edge_angle)\n",
    "        \n",
    "        pre_edge_weights = self.act(self.W_e(pre_edge_len))\n",
    "        edge_angle_weights = self.act(self.W_a(edge_angle))\n",
    "        combined_edge_weights = self.norm_e(pre_edge_weights * edge_angle_weights)\n",
    "        \n",
    "        row, col = edge_index\n",
    "        weighted_edge_features = combined_edge_weights * aggr_out[row]\n",
    "        aggregated_edges = scatter(weighted_edge_features, index=col, dim=0 ,reduce='max')\n",
    "        updated_nodes = self.norm_x(aggregated_edges + x)\n",
    "        \n",
    "        z = torch.cat([x[edge_index[0]], x[edge_index[1]], edge_angle, pre_edge_len], dim=-1)\n",
    "        \n",
    "        edge_angle = edge_angle + self.act(self.norm_e(self.W_u(z)))\n",
    "        pre_edge_len = pre_edge_len + self.act(self.norm_e(self.W_v(z)))\n",
    "        \n",
    "        return self.act(updated_nodes), edge_angle, pre_edge_len\n",
    "\n",
    "    def propagate(self, edge_index, x, pre_edge_len, edge_angle):\n",
    "        row, col = edge_index\n",
    "        aggr_out = scatter(src=x[row], index=col, dim=0 ,reduce='max')\n",
    "        return self.update(x, aggr_out, edge_index, pre_edge_len, edge_angle)"
   ]
  },
  {
   "cell_type": "code",
   "execution_count": 20,
   "id": "a271bfa7-3578-4569-9d0d-4a5ebc85661b",
   "metadata": {
    "jupyter": {
     "source_hidden": true
    }
   },
   "outputs": [],
   "source": [
    "class MGModel(nn.Module):\n",
    "    def __init__(self, dataset, hidden_dim=32, fc_num_layers=2, conv_num=1, dropout=0.1, sigma=1.0):\n",
    "        super().__init__()\n",
    "        self.dim_attr_node = dataset.x.shape[1]\n",
    "        self.dim_type_node = dataset.type.shape[1]\n",
    "        self.dim_edge = dataset.pre_edge_len.shape[1]\n",
    "        self.hidden_dim = hidden_dim\n",
    "        a = int(hidden_dim / 2)\n",
    "        self.node_attr_fc = self.build_mlp(self.dim_attr_node, a, fc_num_layers, dropout)\n",
    "        self.node_type_fc = self.build_mlp(self.dim_type_node, a, fc_num_layers, dropout)\n",
    "        self.edge_len_fc = self.build_mlp(self.dim_edge, hidden_dim, fc_num_layers, dropout)\n",
    "        self.edge_ang_fc = self.build_mlp(self.dim_edge, hidden_dim, fc_num_layers, dropout)\n",
    "        self.gated_layer = self.init_conv(conv_num, hidden_dim, 1e-5)\n",
    "        self.edge_out = nn.Linear(hidden_dim, 9)\n",
    "        self.angle_out = nn.Linear(hidden_dim, 9)\n",
    "        self.w_out = nn.Linear(18, 9)\n",
    "        self.node_norm = nn.LayerNorm(hidden_dim)\n",
    "        self.edge_norm = nn.LayerNorm(9)\n",
    "        self.reset_parameters()\n",
    "\n",
    "    def build_mlp(self, input_dim, hidden_dim, num_layers, dropout):\n",
    "        layers = [nn.Linear(input_dim, hidden_dim), nn.LeakyReLU(), nn.Dropout(dropout), nn.BatchNorm1d(hidden_dim)]\n",
    "        for _ in range(num_layers - 1):\n",
    "            layers.extend([nn.Linear(hidden_dim, hidden_dim), nn.LeakyReLU(), nn.Dropout(dropout), nn.BatchNorm1d(hidden_dim)])\n",
    "        return nn.Sequential(*layers)\n",
    "\n",
    "    def reset_parameters(self):\n",
    "        for layer in self.modules():\n",
    "            if isinstance(layer, nn.Linear):\n",
    "                nn.init.xavier_uniform_(layer.weight)\n",
    "                if layer.bias is not None:\n",
    "                    nn.init.zeros_(layer.bias)\n",
    "\n",
    "    def init_conv(self, conv_num, hidden_dim, epsilon):\n",
    "        conv_num = max(1, conv_num)\n",
    "        conv_list = nn.ModuleList()\n",
    "        for _ in range(conv_num):\n",
    "            conv_list.append(GatedGCNWithEdgeAttention(hidden_dim, hidden_dim, epsilon))\n",
    "        return conv_list\n",
    "\n",
    "    def process_node_features(self, dataset):\n",
    "        # 直接对整个 tensor 进行运算，避免循环\n",
    "        node_features_a = self.node_attr_fc(dataset.x)\n",
    "        node_features_b = self.node_type_fc(dataset.type)\n",
    "        return torch.cat([node_features_a, node_features_b], dim=-1)\n",
    "\n",
    "    def process_edge_features(self, dataset):\n",
    "        edge_features_len = self.edge_len_fc(dataset.pre_edge_len)\n",
    "        edge_features_ang = self.edge_ang_fc(dataset.edge_attr)\n",
    "        return edge_features_len, edge_features_ang\n",
    "\n",
    "    def forward(self, dataset):\n",
    "        node_features = self.process_node_features(dataset)\n",
    "        edge_features_len, edge_features_ang = self.process_edge_features(dataset)\n",
    "        for conv_layer in self.gated_layer:\n",
    "            node_features, edge_features_ang, edge_features_len = conv_layer(\n",
    "                node_features, dataset.edge_index, edge_features_ang, edge_features_len\n",
    "            )\n",
    "        node_output = self.node_norm(node_features)\n",
    "        edge_output = self.edge_norm(self.edge_out(edge_features_len))\n",
    "        angle_output = self.angle_out(edge_features_ang)\n",
    "        weight_edge = self.w_out(torch.cat([edge_output, angle_output], dim=-1))\n",
    "        return node_output, weight_edge"
   ]
  },
  {
   "cell_type": "code",
   "execution_count": 21,
   "id": "b15ab6b0-a7b9-44bc-8567-c83d9d20e8f3",
   "metadata": {
    "jupyter": {
     "source_hidden": true
    }
   },
   "outputs": [],
   "source": [
    "class CustomCompose(nn.Module):\n",
    "    def __init__(self, first, second):\n",
    "        super().__init__()\n",
    "        self.first = first\n",
    "        self.second = second\n",
    "\n",
    "    def forward(self, *input):\n",
    "        x = self.first(*input)\n",
    "        return self.second(x)"
   ]
  },
  {
   "cell_type": "code",
   "execution_count": 22,
   "id": "1ea84be6-cebd-41c1-8242-4203ed041891",
   "metadata": {
    "jupyter": {
     "source_hidden": true
    }
   },
   "outputs": [],
   "source": [
    "class Network(nn.Module):\n",
    "    def __init__(self, in_dim, em_dim, irreps_in, irreps_out, irreps_node_attr, layers, mul, lmax, max_radius,\n",
    "                 number_of_basis=10, radial_layers=1, radial_neurons=100, num_neighbors=1., num_nodes=1.,\n",
    "                 reduce_output=True):\n",
    "        super().__init__()\n",
    "        self.mul = mul\n",
    "        self.lmax = lmax\n",
    "        self.max_radius = max_radius\n",
    "        self.number_of_basis = number_of_basis\n",
    "        self.num_neighbors = num_neighbors\n",
    "        self.num_nodes = num_nodes\n",
    "        self.reduce_output = reduce_output\n",
    "\n",
    "        self.irreps_in = o3.Irreps(irreps_in) if irreps_in is not None else None\n",
    "        self.irreps_hidden = o3.Irreps([(self.mul, (l, p)) for l in range(lmax + 1) for p in [-1, 1]])\n",
    "        self.irreps_out = o3.Irreps(irreps_out)\n",
    "        self.irreps_node_attr = o3.Irreps(irreps_node_attr) if irreps_node_attr is not None else o3.Irreps(\"0e\")\n",
    "        self.irreps_edge_attr = o3.Irreps.spherical_harmonics(lmax)\n",
    "        self.input_has_node_in = (irreps_in is not None)\n",
    "        self.input_has_node_attr = (irreps_node_attr is not None)\n",
    "        self.em_r = nn.Linear(1, em_dim)\n",
    "        self.em_c = nn.Linear(in_dim, em_dim)\n",
    "        act = {1: torch.nn.functional.silu, -1: torch.nn.functional.leaky_relu}\n",
    "        act_gates = {1: torch.sigmoid, -1: torch.nn.functional.silu}\n",
    "        irreps = self.irreps_in if self.irreps_in is not None else o3.Irreps(\"0e\")\n",
    "        self.layers = nn.ModuleList()\n",
    "        for _ in range(layers):\n",
    "            irreps_scalars = o3.Irreps([\n",
    "                (mul, ir) for mul, ir in self.irreps_hidden \n",
    "                if ir.l == 0 and tp_path_exists(irreps, self.irreps_edge_attr, ir)\n",
    "            ])\n",
    "            irreps_gated = o3.Irreps([\n",
    "                (mul, ir) for mul, ir in self.irreps_hidden \n",
    "                if ir.l > 0 and tp_path_exists(irreps, self.irreps_edge_attr, ir)\n",
    "            ])\n",
    "            irreps_gates = o3.Irreps([(mul, \"0e\") for mul, _ in irreps_gated])\n",
    "            \n",
    "            gate = Gate(\n",
    "                irreps_scalars, [act[ir.p] for _, ir in irreps_scalars],\n",
    "                irreps_gates, [torch.sigmoid for _ in irreps_gates],\n",
    "                irreps_gated\n",
    "            )\n",
    "            conv = Convolution(\n",
    "                irreps, self.irreps_node_attr, self.irreps_edge_attr, gate.irreps_in,\n",
    "                number_of_basis, radial_layers, radial_neurons, num_neighbors\n",
    "            )\n",
    "            irreps = gate.irreps_out\n",
    "            self.layers.append(CustomCompose(conv, gate))\n",
    "        self.layers.append(\n",
    "            Convolution(irreps, self.irreps_node_attr, self.irreps_edge_attr, self.irreps_out,\n",
    "                        number_of_basis, radial_layers, radial_neurons, num_neighbors)\n",
    "        )\n",
    "\n",
    "    def preprocess(self, data: dict):\n",
    "        batch = data.get('batch', data['pos'].new_zeros(data['pos'].shape[0]))\n",
    "        edge_index = data.edge_index\n",
    "        edge_src, edge_dst = edge_index[0], edge_index[1]\n",
    "        edge_vec = data['edge_vec']\n",
    "        return batch, edge_src, edge_dst, edge_vec\n",
    "\n",
    "    def forward(self, data: dict, node_output=None, weight_edge=None) -> torch.Tensor:\n",
    "        batch, edge_src, edge_dst, edge_vec = self.preprocess(data)\n",
    "        edge_length = edge_vec.norm(dim=1)\n",
    "        edge_length_embedded = soft_one_hot_linspace(\n",
    "            x=edge_length,\n",
    "            start=0.0,\n",
    "            end=self.max_radius,\n",
    "            number=self.number_of_basis,\n",
    "            basis='gaussian',\n",
    "            cutoff=False\n",
    "        ).mul(self.number_of_basis ** 0.5)\n",
    "        edge_attr = smooth_cutoff(edge_length / self.max_radius)[:, None] * weight_edge\n",
    "        # 直接使用 em_c 对整个 tensor 运算，避免列表解析\n",
    "        symbol = self.em_c(data.type)\n",
    "        node_features = node_output\n",
    "        for layer in self.layers:\n",
    "            node_features = layer(node_features, symbol, edge_src, edge_dst, edge_attr, edge_length_embedded)\n",
    "        if self.reduce_output:\n",
    "            return scatter(node_features, batch, dim=0).div(self.num_nodes ** 0.5)\n",
    "        else:\n",
    "            return scatter_mean(node_features, batch, dim=0)"
   ]
  },
  {
   "cell_type": "code",
   "execution_count": 23,
   "id": "e2cde522-3b08-4dae-a6de-12f12c66c8da",
   "metadata": {
    "jupyter": {
     "source_hidden": true
    }
   },
   "outputs": [],
   "source": [
    "class MGE3_Model(nn.Module):\n",
    "    def __init__(self, dataset, in_dim, em_dim, irreps_in, irreps_out, irreps_node_attr, layers, mul, lmax, max_radius,\n",
    "                 number_of_basis=10, radial_layers=1, radial_neurons=100, num_neighbors=1., num_nodes=1., dropout=0.1,\n",
    "                 fc_num_layers=2, conv_num=1, sigma=1.0, reduce_output=True):\n",
    "        super().__init__()\n",
    "        self.mg_model = MGModel(dataset, hidden_dim=32, fc_num_layers=fc_num_layers, conv_num=conv_num,\n",
    "                                dropout=dropout, sigma=sigma)\n",
    "        self.network = Network(in_dim, em_dim, irreps_in, irreps_out, irreps_node_attr, layers, mul, lmax,\n",
    "                               max_radius, number_of_basis, radial_layers, radial_neurons, num_neighbors,\n",
    "                               num_nodes, reduce_output)\n",
    "\n",
    "    def forward(self, data: dict) -> torch.Tensor:\n",
    "        node_output, weight_edge = self.mg_model(data)\n",
    "        final_node_output = self.network(data, node_output=node_output, weight_edge=weight_edge)\n",
    "        return final_node_output"
   ]
  },
  {
   "cell_type": "code",
   "execution_count": 34,
   "id": "8e362901-8434-4155-b9ec-64af922e0308",
   "metadata": {
    "scrolled": true
   },
   "outputs": [
    {
     "name": "stderr",
     "output_type": "stream",
     "text": [
      "C:\\Users\\Administrator\\AppData\\Local\\Temp\\ipykernel_23700\\1046099695.py:48: FutureWarning: You are using `torch.load` with `weights_only=False` (the current default value), which uses the default pickle module implicitly. It is possible to construct malicious pickle data which will execute arbitrary code during unpickling (See https://github.com/pytorch/pytorch/blob/main/SECURITY.md#untrusted-models for more details). In a future release, the default value for `weights_only` will be flipped to `True`. This limits the functions that could be executed during unpickling. Arbitrary objects will no longer be allowed to be loaded via this mode unless they are explicitly allowlisted by the user via `torch.serialization.add_safe_globals`. We recommend you start setting `weights_only=True` for any use case where you don't have full control of the loaded file. Please open an issue on GitHub for any issues related to this experimental feature.\n",
      "  graph = torch.load(graph_path)  # 加载图数据\n",
      "D:\\Anaconda\\envs\\gkhl\\Lib\\site-packages\\torch\\jit\\_check.py:178: UserWarning: The TorchScript type system doesn't support instance-level annotations on empty non-base types in `__init__`. Instead, either 1) use a type annotation in the class body, or 2) wrap the type in `torch.jit.Attribute`.\n",
      "  warnings.warn(\n",
      "D:\\Anaconda\\envs\\gkhl\\Lib\\site-packages\\torch\\jit\\_check.py:178: UserWarning: The TorchScript type system doesn't support instance-level annotations on empty non-base types in `__init__`. Instead, either 1) use a type annotation in the class body, or 2) wrap the type in `torch.jit.Attribute`.\n",
      "  warnings.warn(\n",
      "D:\\Anaconda\\envs\\gkhl\\Lib\\site-packages\\torch\\jit\\_check.py:178: UserWarning: The TorchScript type system doesn't support instance-level annotations on empty non-base types in `__init__`. Instead, either 1) use a type annotation in the class body, or 2) wrap the type in `torch.jit.Attribute`.\n",
      "  warnings.warn(\n",
      "D:\\Anaconda\\envs\\gkhl\\Lib\\site-packages\\torch\\jit\\_check.py:178: UserWarning: The TorchScript type system doesn't support instance-level annotations on empty non-base types in `__init__`. Instead, either 1) use a type annotation in the class body, or 2) wrap the type in `torch.jit.Attribute`.\n",
      "  warnings.warn(\n",
      "D:\\Anaconda\\envs\\gkhl\\Lib\\site-packages\\torch\\jit\\_check.py:178: UserWarning: The TorchScript type system doesn't support instance-level annotations on empty non-base types in `__init__`. Instead, either 1) use a type annotation in the class body, or 2) wrap the type in `torch.jit.Attribute`.\n",
      "  warnings.warn(\n",
      "D:\\Anaconda\\envs\\gkhl\\Lib\\site-packages\\torch\\jit\\_check.py:178: UserWarning: The TorchScript type system doesn't support instance-level annotations on empty non-base types in `__init__`. Instead, either 1) use a type annotation in the class body, or 2) wrap the type in `torch.jit.Attribute`.\n",
      "  warnings.warn(\n",
      "D:\\Anaconda\\envs\\gkhl\\Lib\\site-packages\\torch\\jit\\_check.py:178: UserWarning: The TorchScript type system doesn't support instance-level annotations on empty non-base types in `__init__`. Instead, either 1) use a type annotation in the class body, or 2) wrap the type in `torch.jit.Attribute`.\n",
      "  warnings.warn(\n",
      "D:\\Anaconda\\envs\\gkhl\\Lib\\site-packages\\torch\\jit\\_check.py:178: UserWarning: The TorchScript type system doesn't support instance-level annotations on empty non-base types in `__init__`. Instead, either 1) use a type annotation in the class body, or 2) wrap the type in `torch.jit.Attribute`.\n",
      "  warnings.warn(\n",
      "D:\\Anaconda\\envs\\gkhl\\Lib\\site-packages\\torch\\jit\\_check.py:178: UserWarning: The TorchScript type system doesn't support instance-level annotations on empty non-base types in `__init__`. Instead, either 1) use a type annotation in the class body, or 2) wrap the type in `torch.jit.Attribute`.\n",
      "  warnings.warn(\n",
      "D:\\Anaconda\\envs\\gkhl\\Lib\\site-packages\\torch\\jit\\_check.py:178: UserWarning: The TorchScript type system doesn't support instance-level annotations on empty non-base types in `__init__`. Instead, either 1) use a type annotation in the class body, or 2) wrap the type in `torch.jit.Attribute`.\n",
      "  warnings.warn(\n",
      "D:\\Anaconda\\envs\\gkhl\\Lib\\site-packages\\torch\\jit\\_check.py:178: UserWarning: The TorchScript type system doesn't support instance-level annotations on empty non-base types in `__init__`. Instead, either 1) use a type annotation in the class body, or 2) wrap the type in `torch.jit.Attribute`.\n",
      "  warnings.warn(\n",
      "D:\\Anaconda\\envs\\gkhl\\Lib\\site-packages\\torch\\jit\\_check.py:178: UserWarning: The TorchScript type system doesn't support instance-level annotations on empty non-base types in `__init__`. Instead, either 1) use a type annotation in the class body, or 2) wrap the type in `torch.jit.Attribute`.\n",
      "  warnings.warn(\n",
      "D:\\Anaconda\\envs\\gkhl\\Lib\\site-packages\\torch\\jit\\_check.py:178: UserWarning: The TorchScript type system doesn't support instance-level annotations on empty non-base types in `__init__`. Instead, either 1) use a type annotation in the class body, or 2) wrap the type in `torch.jit.Attribute`.\n",
      "  warnings.warn(\n",
      "D:\\Anaconda\\envs\\gkhl\\Lib\\site-packages\\torch\\jit\\_check.py:178: UserWarning: The TorchScript type system doesn't support instance-level annotations on empty non-base types in `__init__`. Instead, either 1) use a type annotation in the class body, or 2) wrap the type in `torch.jit.Attribute`.\n",
      "  warnings.warn(\n",
      "D:\\Anaconda\\envs\\gkhl\\Lib\\site-packages\\torch\\jit\\_check.py:178: UserWarning: The TorchScript type system doesn't support instance-level annotations on empty non-base types in `__init__`. Instead, either 1) use a type annotation in the class body, or 2) wrap the type in `torch.jit.Attribute`.\n",
      "  warnings.warn(\n",
      "D:\\Anaconda\\envs\\gkhl\\Lib\\site-packages\\torch\\jit\\_check.py:178: UserWarning: The TorchScript type system doesn't support instance-level annotations on empty non-base types in `__init__`. Instead, either 1) use a type annotation in the class body, or 2) wrap the type in `torch.jit.Attribute`.\n",
      "  warnings.warn(\n"
     ]
    }
   ],
   "source": [
    "in_dim = 118\n",
    "em_dim = 32\n",
    "out_dim = 1\n",
    "\n",
    "model = MGE3_Model(\n",
    "    dataset=next(iter(train_loader))[0],\n",
    "    in_dim=in_dim,\n",
    "    em_dim=em_dim,\n",
    "    irreps_in=f\"{em_dim}x0e\",\n",
    "    irreps_out=f\"{out_dim}x0e\",\n",
    "    irreps_node_attr=f\"{em_dim}x0e\",\n",
    "    layers=2,\n",
    "    mul=32,\n",
    "    lmax=2,\n",
    "    max_radius=6.0,\n",
    "    num_neighbors=train_neighbors.mean(),\n",
    "    dropout=0.5,\n",
    "    fc_num_layers=1,\n",
    "    conv_num=5,\n",
    "    sigma=1.0,\n",
    "    reduce_output=True\n",
    ")\n",
    "\n",
    "#print(model)"
   ]
  },
  {
   "cell_type": "code",
   "execution_count": 25,
   "id": "1f08efbd-4b1c-40fd-aa2a-a80cff1f6a08",
   "metadata": {
    "collapsed": true,
    "jupyter": {
     "outputs_hidden": true,
     "source_hidden": true
    },
    "scrolled": true
   },
   "outputs": [
    {
     "name": "stderr",
     "output_type": "stream",
     "text": [
      "C:\\Users\\Administrator\\AppData\\Local\\Temp\\ipykernel_23700\\1046099695.py:48: FutureWarning: You are using `torch.load` with `weights_only=False` (the current default value), which uses the default pickle module implicitly. It is possible to construct malicious pickle data which will execute arbitrary code during unpickling (See https://github.com/pytorch/pytorch/blob/main/SECURITY.md#untrusted-models for more details). In a future release, the default value for `weights_only` will be flipped to `True`. This limits the functions that could be executed during unpickling. Arbitrary objects will no longer be allowed to be loaded via this mode unless they are explicitly allowlisted by the user via `torch.serialization.add_safe_globals`. We recommend you start setting `weights_only=True` for any use case where you don't have full control of the loaded file. Please open an issue on GitHub for any issues related to this experimental feature.\n",
      "  graph = torch.load(graph_path)  # 加载图数据\n"
     ]
    }
   ],
   "source": [
    "def compute_median_iqr(train_loader):\n",
    "    all_targets = []\n",
    "    for _, d in enumerate(train_loader):\n",
    "        # 过滤掉 NaN 值\n",
    "        all_targets.append(d.y[~np.isnan(d.y.numpy())].numpy())\n",
    "    all_targets = np.concatenate(all_targets)\n",
    "\n",
    "    # 计算目标值的中位数和IQR（四分位差）\n",
    "    median_y = np.median(all_targets)\n",
    "    iqr_y = np.percentile(all_targets, 75) - np.percentile(all_targets, 25)\n",
    "    \n",
    "    # 计算最小值\n",
    "    min_y = (np.min(all_targets)-median_y)/iqr_y\n",
    "\n",
    "    return median_y, iqr_y, min_y\n",
    "\n",
    "# 计算训练集的中位数、IQR和最小值\n",
    "median_y, iqr_y, min_y = compute_median_iqr(train_loader)"
   ]
  },
  {
   "cell_type": "code",
   "execution_count": 26,
   "id": "87216586-4590-4f8f-b139-9e7eb6b21535",
   "metadata": {
    "jupyter": {
     "source_hidden": true
    }
   },
   "outputs": [
    {
     "name": "stdout",
     "output_type": "stream",
     "text": [
      "-2.2124244119749994\n",
      "1.319799072143677\n"
     ]
    }
   ],
   "source": [
    "print(median_y)\n",
    "print(iqr_y)"
   ]
  },
  {
   "cell_type": "code",
   "execution_count": 27,
   "id": "d1b2f688-2968-4323-8c9b-d5e69b555c5e",
   "metadata": {
    "jupyter": {
     "source_hidden": true
    }
   },
   "outputs": [],
   "source": [
    "def robust_normalize(y, median_y, iqr_y,min_y):\n",
    "    normalized_y = (y - median_y) / iqr_y\n",
    "    return torch.tensor(normalized_y)"
   ]
  },
  {
   "cell_type": "code",
   "execution_count": 28,
   "id": "ac3445b9-aa36-4258-8268-288d68379c9b",
   "metadata": {
    "jupyter": {
     "source_hidden": true
    }
   },
   "outputs": [],
   "source": [
    "def train(model, optimizer, dataloader_train, dataloader_valid, loss_fn, loss_fn_mae, run_name,\n",
    "          max_iter=101, scheduler=None, scheduler_exponential=None, device=\"cpu\"):\n",
    "    model.to(device)\n",
    "\n",
    "    checkpoint_generator = loglinspace(0.2, 5)\n",
    "    checkpoint = next(checkpoint_generator)\n",
    "    start_time = time.time()\n",
    "\n",
    "    try: model.load_state_dict(torch.load('./model/' + run_name + '.torch')['state'])\n",
    "    except:\n",
    "        results = {}\n",
    "        history = []\n",
    "        s0 = 0\n",
    "        print(\"b\")\n",
    "    else:\n",
    "        results = torch.load('./model/' + run_name + '.torch')\n",
    "        history = results['history']\n",
    "        s0 = history[-1]['step'] + 1\n",
    "        print(\"a\")\n",
    "    \n",
    "    \n",
    "    for step in range(max_iter):\n",
    "        model.train()\n",
    "        loss_cumulative = 0.\n",
    "        loss_cumulative_mae = 0.\n",
    "        \n",
    "    \n",
    "    for step in range(max_iter):\n",
    "        model.train()\n",
    "        loss_cumulative = 0.\n",
    "        loss_cumulative_mae = 0.\n",
    "        \n",
    "        for j, d in tqdm(enumerate(dataloader_train), total=len(dataloader_train), bar_format=bar_format):\n",
    "            d.edge_index = torch.tensor(d.edge_index)\n",
    "            \n",
    "            d.to(device)\n",
    "            d.y = d.y.float()\n",
    "            d.y = robust_normalize(d.y, median_y, iqr_y, min_y)\n",
    "            output = model(d)\n",
    "            output = output.squeeze()\n",
    "            d.y = torch.nan_to_num(d.y, nan=0.0)\n",
    "            \n",
    "            loss = loss_fn(output, d.y).cpu()\n",
    "            loss_mae = loss_fn_mae(output, d.y).cpu()\n",
    "            loss_em = 1 * loss + 0 * loss_mae\n",
    "            loss_cumulative += loss.detach().item()\n",
    "            loss_cumulative_mae += loss_mae.detach().item()\n",
    "            \n",
    "            optimizer.zero_grad()\n",
    "            torch.autograd.set_detect_anomaly(True)\n",
    "            loss_em.backward()\n",
    "            optimizer.step()\n",
    "\n",
    "        end_time = time.time()\n",
    "        wall = end_time - start_time\n",
    "\n",
    "        if step == checkpoint:\n",
    "            checkpoint = next(checkpoint_generator)\n",
    "            assert checkpoint > step\n",
    "\n",
    "            valid_avg_loss = evaluate(model, dataloader_valid, loss_fn, loss_fn_mae, device)\n",
    "            train_avg_loss = evaluate(model, dataloader_train, loss_fn, loss_fn_mae, device)\n",
    "\n",
    "            history.append({\n",
    "                'step': s0 + step,\n",
    "                'wall': wall,\n",
    "                'batch': {\n",
    "                    'loss': loss.item(),\n",
    "                    'mean_abs': loss_mae.item(),\n",
    "                },\n",
    "                'valid': {\n",
    "                    'loss': valid_avg_loss[0],\n",
    "                    'mean_abs': valid_avg_loss[1],\n",
    "                },\n",
    "                'train': {\n",
    "                    'loss': train_avg_loss[0],\n",
    "                    'mean_abs': train_avg_loss[1],\n",
    "                },\n",
    "            })\n",
    "\n",
    "            results = {\n",
    "                'history': history,\n",
    "                'state': model.state_dict()\n",
    "            }\n",
    "\n",
    "            print(f\"Iteration {step+1:4d}   \" +\n",
    "                  f\"train loss = {train_avg_loss[1]:8.4f}   \" +\n",
    "                  f\"train loss_2 = {train_avg_loss[0]:8.4f}   \" +\n",
    "                  f\"valid loss = {valid_avg_loss[1]:8.4f}   \" +\n",
    "                  f\"valid loss_2 = {valid_avg_loss[0]:8.4f}   \" +\n",
    "                  f\"elapsed time = {time.strftime('%H:%M:%S', time.gmtime(wall))}\")\n",
    "\n",
    "            output_dir = './model/'\n",
    "            if not os.path.exists(output_dir):\n",
    "                os.makedirs(output_dir)\n",
    "            with open(f'./model/{run_name}.torch', 'wb') as f:\n",
    "                torch.save(results, f)\n",
    "\n",
    "        if scheduler is not None:\n",
    "            scheduler.step()\n",
    "\n",
    "        if step >= warmup_steps and scheduler_exponential is not None:\n",
    "            scheduler_exponential.step()\n"
   ]
  },
  {
   "cell_type": "code",
   "execution_count": 29,
   "id": "8b74d751-e527-4716-bcd3-e4a80988519e",
   "metadata": {
    "jupyter": {
     "source_hidden": true
    }
   },
   "outputs": [],
   "source": [
    "def evaluate(model, dataloader, loss_fn, loss_fn_mae, device):\n",
    "    model.eval()\n",
    "    loss_cumulative = 0.\n",
    "    loss_cumulative_mae = 0.\n",
    "    start_time = time.time()\n",
    "    with torch.no_grad():\n",
    "        for j, d in enumerate(dataloader):\n",
    "            d.edge_index = torch.tensor(d.edge_index)\n",
    "            d.to(device)\n",
    "            d.y = robust_normalize(d.y, median_y, iqr_y,min_y)\n",
    "            output = model(d)\n",
    "            output = output.squeeze()\n",
    "            d.y = d.y.float()\n",
    "            d.y = torch.nan_to_num(d.y, nan=0.0)\n",
    "            \n",
    "            loss = loss_fn(output, d.y).cpu()\n",
    "            loss_mae = loss_fn_mae(output, d.y).cpu()\n",
    "            loss_cumulative = loss_cumulative + loss.detach().item()\n",
    "            loss_cumulative_mae = loss_cumulative_mae + loss_mae.detach().item()\n",
    "    return loss_cumulative/len(dataloader), loss_cumulative_mae/len(dataloader)"
   ]
  },
  {
   "cell_type": "code",
   "execution_count": 30,
   "id": "96cfbeeb-7ddb-4c9d-957e-d83213c59d5e",
   "metadata": {
    "jupyter": {
     "source_hidden": true
    }
   },
   "outputs": [],
   "source": [
    "def loglinspace(rate, step, end=None):\n",
    "    t = 0\n",
    "    while end is None or t <= end:\n",
    "        yield t\n",
    "        t = int(t + 1 + step*(1 - math.exp(-t*rate/step)))"
   ]
  },
  {
   "cell_type": "code",
   "execution_count": 35,
   "id": "96169b1e-4deb-4b28-adf9-a1c8f969cd45",
   "metadata": {},
   "outputs": [],
   "source": [
    "opt = torch.optim.AdamW(model.parameters(), lr=5e-4, weight_decay=0.05)\n",
    "\n",
    "warmup_steps = 5\n",
    "initial_lr = 1e-6\n",
    "max_lr = 5e-4\n",
    "def lr_lambda(step):\n",
    "    if step < warmup_steps:\n",
    "        return initial_lr + (max_lr - initial_lr) * step / warmup_steps\n",
    "    else:\n",
    "        return 1.0\n",
    "\n",
    "scheduler_warmup = torch.optim.lr_scheduler.LambdaLR(opt, lr_lambda)\n",
    "scheduler_exponential = torch.optim.lr_scheduler.ExponentialLR(opt, gamma=0.6)\n",
    "\n",
    "\n",
    "loss_fn = torch.nn.HuberLoss(delta=0.3)\n",
    "loss_fn_mae = torch.nn.L1Loss()"
   ]
  },
  {
   "cell_type": "code",
   "execution_count": 32,
   "id": "fb78ec42-4f14-4d53-9044-688b32329e6b",
   "metadata": {},
   "outputs": [],
   "source": [
    "bar_format = '{l_bar}{bar:10}{r_bar}{bar:-10b}'"
   ]
  },
  {
   "cell_type": "code",
   "execution_count": null,
   "id": "4030702c-7f05-4242-aead-0e9aeb9ad3c3",
   "metadata": {
    "scrolled": true
   },
   "outputs": [
    {
     "name": "stderr",
     "output_type": "stream",
     "text": [
      "C:\\Users\\Administrator\\AppData\\Local\\Temp\\ipykernel_23700\\128046451.py:9: FutureWarning: You are using `torch.load` with `weights_only=False` (the current default value), which uses the default pickle module implicitly. It is possible to construct malicious pickle data which will execute arbitrary code during unpickling (See https://github.com/pytorch/pytorch/blob/main/SECURITY.md#untrusted-models for more details). In a future release, the default value for `weights_only` will be flipped to `True`. This limits the functions that could be executed during unpickling. Arbitrary objects will no longer be allowed to be loaded via this mode unless they are explicitly allowlisted by the user via `torch.serialization.add_safe_globals`. We recommend you start setting `weights_only=True` for any use case where you don't have full control of the loaded file. Please open an issue on GitHub for any issues related to this experimental feature.\n",
      "  try: model.load_state_dict(torch.load('./model/' + run_name + '.torch')['state'])\n",
      "C:\\Users\\Administrator\\AppData\\Local\\Temp\\ipykernel_23700\\128046451.py:16: FutureWarning: You are using `torch.load` with `weights_only=False` (the current default value), which uses the default pickle module implicitly. It is possible to construct malicious pickle data which will execute arbitrary code during unpickling (See https://github.com/pytorch/pytorch/blob/main/SECURITY.md#untrusted-models for more details). In a future release, the default value for `weights_only` will be flipped to `True`. This limits the functions that could be executed during unpickling. Arbitrary objects will no longer be allowed to be loaded via this mode unless they are explicitly allowlisted by the user via `torch.serialization.add_safe_globals`. We recommend you start setting `weights_only=True` for any use case where you don't have full control of the loaded file. Please open an issue on GitHub for any issues related to this experimental feature.\n",
      "  results = torch.load('./model/' + run_name + '.torch')\n"
     ]
    },
    {
     "name": "stdout",
     "output_type": "stream",
     "text": [
      "a\n"
     ]
    },
    {
     "name": "stderr",
     "output_type": "stream",
     "text": [
      "  0%|          | 0/150 [00:00<?, ?it/s]                                                                                C:\\Users\\Administrator\\AppData\\Local\\Temp\\ipykernel_23700\\1046099695.py:48: FutureWarning: You are using `torch.load` with `weights_only=False` (the current default value), which uses the default pickle module implicitly. It is possible to construct malicious pickle data which will execute arbitrary code during unpickling (See https://github.com/pytorch/pytorch/blob/main/SECURITY.md#untrusted-models for more details). In a future release, the default value for `weights_only` will be flipped to `True`. This limits the functions that could be executed during unpickling. Arbitrary objects will no longer be allowed to be loaded via this mode unless they are explicitly allowlisted by the user via `torch.serialization.add_safe_globals`. We recommend you start setting `weights_only=True` for any use case where you don't have full control of the loaded file. Please open an issue on GitHub for any issues related to this experimental feature.\n",
      "  graph = torch.load(graph_path)  # 加载图数据\n",
      "C:\\Users\\Administrator\\AppData\\Local\\Temp\\ipykernel_23700\\128046451.py:34: UserWarning: To copy construct from a tensor, it is recommended to use sourceTensor.clone().detach() or sourceTensor.clone().detach().requires_grad_(True), rather than torch.tensor(sourceTensor).\n",
      "  d.edge_index = torch.tensor(d.edge_index)\n",
      "C:\\Users\\Administrator\\AppData\\Local\\Temp\\ipykernel_23700\\1336829745.py:3: UserWarning: To copy construct from a tensor, it is recommended to use sourceTensor.clone().detach() or sourceTensor.clone().detach().requires_grad_(True), rather than torch.tensor(sourceTensor).\n",
      "  return torch.tensor(normalized_y)\n",
      " 11%|█▏        | 17/150 [00:17<02:07,  1.05it/s]                                                                       "
     ]
    }
   ],
   "source": [
    "run_name = 'model_eps_' + \"03\"\n",
    "model.pool = True\n",
    "train(model, opt, train_loader, val_loader, loss_fn, loss_fn_mae, run_name,max_iter=99, scheduler=scheduler_warmup, \n",
    "      scheduler_exponential=scheduler_exponential,device=device)"
   ]
  },
  {
   "cell_type": "code",
   "execution_count": null,
   "id": "6ecd53cc-ab2c-4364-bc08-9af6020304af",
   "metadata": {},
   "outputs": [],
   "source": [
    "history = torch.load('./model/' + run_name + '.torch', map_location=device)['history']\n",
    "steps = [d['step'] + 1 for d in history]\n",
    "loss_train = [d['train']['loss'] for d in history]\n",
    "\n",
    "loss_valid = [d['valid']['loss'] for d in history]\n",
    "\n",
    "np.savetxt(run_name+'_MSE_loss.txt', np.column_stack((steps, loss_train, loss_valid)), fmt='%.8f', delimiter='\\t')\n",
    "\n",
    "fig, ax = plt.subplots(figsize=(4,4))\n",
    "ax.plot(steps, loss_train, 'o-', label=\"Training\", color='C0')\n",
    "ax.plot(steps, loss_valid, 'o-', label=\"Validation\", color='C3')\n",
    "ax.set_xlabel('Epochs')\n",
    "ax.set_ylabel('Loss')\n",
    "ax.legend(frameon=False)\n",
    "plt.tight_layout()\n",
    "fig.savefig(run_name + '_loss.pdf')"
   ]
  },
  {
   "cell_type": "code",
   "execution_count": null,
   "id": "4b69e413-4a46-4ea5-a185-cbcbb35149dd",
   "metadata": {
    "scrolled": true
   },
   "outputs": [],
   "source": [
    "model.load_state_dict(torch.load('./model/'+run_name + '.torch', map_location=device)['state'])\n",
    "model.pool = True\n",
    "\n",
    "model.to(device)\n",
    "\n",
    "model.eval()"
   ]
  },
  {
   "cell_type": "code",
   "execution_count": null,
   "id": "2ceea725-b5bd-4586-a372-3ef62c8754f3",
   "metadata": {
    "scrolled": true
   },
   "outputs": [],
   "source": [
    "total_samples = sum(len(batch.y) for batch in test_loader)\n",
    "\n",
    "# 根据样本数初始化 DataFrame\n",
    "df = pd.DataFrame(index=range(total_samples), columns=['y_true', 'y_pred', 'mse'])\n",
    "\n",
    "with torch.no_grad():\n",
    "    i0 = 0\n",
    "    for i, d in tqdm(enumerate(test_loader), total=len(test_loader), bar_format=bar_format):\n",
    "        d.edge_index = torch.tensor(d.edge_index)\n",
    "        d.to(device)\n",
    "        d.y = d.y.float()\n",
    "        d.y = torch.nan_to_num(d.y, nan=0.0)\n",
    "        d.y = robust_normalize(d.y, median_y, iqr_y,min_y)\n",
    "        output = model(d).squeeze()\n",
    "        loss = F.mse_loss(output, d.y, reduction='none').mean(dim=-1).cpu().numpy()\n",
    "        df.loc[i0:i0 + len(d.y) - 1, 'y_pred'] = output.cpu().numpy()\n",
    "        df.loc[i0:i0 + len(d.y) - 1, 'mse'] = loss\n",
    "        df.loc[i0:i0 + len(d.y) - 1, 'y_true'] = d.y.cpu().numpy()\n",
    "        i0 += len(d.y)"
   ]
  },
  {
   "cell_type": "code",
   "execution_count": null,
   "id": "a95c2652-3895-41a1-9419-af83bade8ade",
   "metadata": {},
   "outputs": [],
   "source": [
    "# 计算误差的绝对值\n",
    "df['error'] = abs(df['y_pred'] - df['y_true'])\n",
    "\n",
    "# 找到误差最大的索引\n",
    "max_error_index = df['error'].idxmax()\n",
    "\n",
    "# 删除误差最大的一行\n",
    "df = df.drop(index=max_error_index).reset_index(drop=True)"
   ]
  },
  {
   "cell_type": "code",
   "execution_count": null,
   "id": "566f45d9-dd89-4e9a-bff9-bf3deb00bf1d",
   "metadata": {},
   "outputs": [],
   "source": [
    "y_test = df['y_true'].to_numpy() \n",
    "y_pre = df['y_pred'].to_numpy()\n",
    "\n",
    "y_pre =( y_pre)*  iqr_y + median_y\n",
    "y_test =( y_test) * iqr_y + median_y"
   ]
  },
  {
   "cell_type": "code",
   "execution_count": null,
   "id": "376c1a04-648b-4d49-bd7a-65cbd966282d",
   "metadata": {},
   "outputs": [],
   "source": [
    "from sklearn.metrics import r2_score\n",
    "from sklearn.metrics import mean_absolute_error\n",
    "from sklearn.metrics import mean_squared_error\n",
    "from math import sqrt\n",
    "\n",
    "print(\"mean_absolute_error:\",mean_absolute_error(y_test,y_pre))\n",
    "print(\"mean_squared_error:\",mean_squared_error(y_test,y_pre))\n",
    "print(\"rmse:\",sqrt(mean_squared_error(y_test,y_pre)))\n",
    "print(\"r2:\",r2_score(y_test,y_pre))"
   ]
  },
  {
   "cell_type": "code",
   "execution_count": null,
   "id": "33ae281f-ce38-448c-aa13-ffe77cb2a0c5",
   "metadata": {},
   "outputs": [],
   "source": [
    "plt.figure(figsize=(12, 4))\n",
    "plt.plot(list(range(1, len(y_test) + 1)), y_test, label='True Values', marker='o')\n",
    "plt.plot(list(range(1, len(y_pre) + 1)), y_pre, label='Predicted Values', marker='x')\n",
    "plt.xlabel('Observation')\n",
    "plt.ylabel('energy')\n",
    "plt.xlim([1, len(y_test)])\n",
    "plt.legend()\n",
    "plt.title('True vs Predicted Values')\n",
    "plt.show()"
   ]
  },
  {
   "cell_type": "code",
   "execution_count": null,
   "id": "44cc70a9-9e12-4b4a-b4a2-93cf61dc0fe3",
   "metadata": {},
   "outputs": [],
   "source": [
    "y_test = pd.to_numeric(y_test, errors='coerce')\n",
    "y_pre = pd.to_numeric(y_pre, errors='coerce')"
   ]
  },
  {
   "cell_type": "code",
   "execution_count": null,
   "id": "5f37a4a7-1f32-4125-86e5-0ec806223d99",
   "metadata": {},
   "outputs": [],
   "source": [
    "from matplotlib.colors import LinearSegmentedColormap\n",
    "\n",
    "errors = np.abs(np.array(y_test) - np.array(y_pre))\n",
    "colors = np.interp(errors, (errors.min(), errors.max()), (0, 1))  # 归一化到 [0, 1]\n",
    "\n",
    "colors_list = [(0.3, 0, 0.5), (1, 0.9, 0.6)]  # 深紫色到更浅的橘黄色\n",
    "cmap = LinearSegmentedColormap.from_list('purple_lightorange', colors_list)\n",
    "\n",
    "\n",
    "plt.figure(figsize=(8, 8))\n",
    "scatter = plt.scatter(y_test, y_pre, c=colors, cmap=cmap, edgecolor='none')\n",
    "\n",
    "# 添加参考线\n",
    "plt.plot([min(y_test), max(y_test)], [min(y_test), max(y_test)], color='darkblue', linestyle='--')\n",
    "\n",
    "# 设置标签和标题\n",
    "plt.xlabel('True Values')\n",
    "plt.ylabel('Predicted Values')\n",
    "\n",
    "# 去掉网格线\n",
    "plt.grid(False)\n",
    "\n",
    "# 显示颜色条，并设置标签\n",
    "cbar = plt.colorbar(scatter)\n",
    "\n",
    "# 标注 R²、MAE 和 RMSE\n",
    "\n",
    "r2 = r2_score(y_test,y_pre)\n",
    "mae = mean_absolute_error(y_test,y_pre)\n",
    "rmse = sqrt(mean_squared_error(y_test,y_pre))  \n",
    "\n",
    "plt.text(0.95, 0.05, f'$R^2$ = {r2:.5f}\\nMAE = {mae:.5f}\\nRMSE = {rmse:.5f}', \n",
    "         horizontalalignment='right', verticalalignment='bottom', \n",
    "         transform=plt.gca().transAxes, fontsize=12, \n",
    "         bbox=dict(facecolor='white', alpha=0.8, edgecolor='black'))\n",
    "\n",
    "# 显示图形\n",
    "plt.show()"
   ]
  },
  {
   "cell_type": "code",
   "execution_count": null,
   "id": "1c3e9c78-bfee-4e3f-b88c-a95b5e722f64",
   "metadata": {},
   "outputs": [],
   "source": [
    "import numpy as np\n",
    "import matplotlib.pyplot as plt\n",
    "from sklearn.metrics import r2_score, mean_absolute_error, mean_squared_error\n",
    "from math import sqrt\n",
    "\n",
    "# 假设 y_test, y_pre 已经定义\n",
    "errors = np.abs(np.array(y_test) - np.array(y_pre))\n",
    "# 直接使用 viridis 的色彩映射\n",
    "cmap = plt.get_cmap('viridis')\n",
    "\n",
    "plt.figure(figsize=(8, 8))\n",
    "scatter = plt.scatter(y_test, y_pre, c=errors, cmap=cmap, edgecolor='none', s=50, alpha=0.8)\n",
    "\n",
    "# 添加 1:1 参考线\n",
    "plt.plot([min(y_test), max(y_test)], [min(y_test), max(y_test)], color='gray', linestyle='--', linewidth=1)\n",
    "\n",
    "plt.xlabel('True Values', fontsize=14)\n",
    "plt.ylabel('Predicted Values', fontsize=14)\n",
    "plt.xticks(fontsize=12)\n",
    "plt.yticks(fontsize=12)\n",
    "plt.grid(False)\n",
    "\n",
    "# 显示颜色条\n",
    "cbar = plt.colorbar(scatter, shrink=0.8, pad=0.02)\n",
    "cbar.set_label('Absolute Error', fontsize=12)\n",
    "cbar.ax.tick_params(labelsize=10)\n",
    "\n",
    "# 计算指标\n",
    "r2 = r2_score(y_test, y_pre)\n",
    "mae = mean_absolute_error(y_test, y_pre)\n",
    "rmse = sqrt(mean_squared_error(y_test, y_pre))\n",
    "plt.text(0.95, 0.05, f'$R^2$ = {r2:.5f}\\nMAE = {mae:.5f}\\nRMSE = {rmse:.5f}', \n",
    "         horizontalalignment='right', verticalalignment='bottom', \n",
    "         transform=plt.gca().transAxes, fontsize=12, \n",
    "         bbox=dict(facecolor='white', alpha=0.8, edgecolor='black', boxstyle='round,pad=0.5'))\n",
    "\n",
    "plt.tight_layout()\n",
    "plt.show()"
   ]
  }
 ],
 "metadata": {
  "kernelspec": {
   "display_name": "Python 3 (ipykernel)",
   "language": "python",
   "name": "python3"
  },
  "language_info": {
   "codemirror_mode": {
    "name": "ipython",
    "version": 3
   },
   "file_extension": ".py",
   "mimetype": "text/x-python",
   "name": "python",
   "nbconvert_exporter": "python",
   "pygments_lexer": "ipython3",
   "version": "3.12.4"
  }
 },
 "nbformat": 4,
 "nbformat_minor": 5
}
